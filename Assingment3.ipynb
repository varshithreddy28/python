{
 "cells": [
  {
   "cell_type": "code",
   "execution_count": 211,
   "metadata": {},
   "outputs": [
    {
     "name": "stdout",
     "output_type": "stream",
     "text": [
      "Enter the sides of the triangle2\n",
      "Enter the sides of the triangle3\n",
      "Enter the sides of the triangle6\n",
      "The are of the traingle is 181.5\n"
     ]
    }
   ],
   "source": [
    "#question 1:\n",
    "a=float(input('Enter the sides of the triangle'))\n",
    "b=float(input('Enter the sides of the triangle'))\n",
    "c=float(input('Enter the sides of the triangle'))\n",
    "s=(a+b+c)/2\n",
    "area=(s*(s*a)*(s*b)*(s*c))**0.5\n",
    "print(f'The are of the traingle is {area}')"
   ]
  },
  {
   "cell_type": "code",
   "execution_count": 212,
   "metadata": {},
   "outputs": [
    {
     "name": "stdout",
     "output_type": "stream",
     "text": [
      "Enter the string : racecar\n",
      "The racecar is a Palindrome\n"
     ]
    }
   ],
   "source": [
    "#question 2:\n",
    "string=input('Enter the string : ')\n",
    "if string==string[::-1]:\n",
    "    print(f'The {string} is a Palindrome')\n",
    "else:\n",
    "    print(f'The {string} is Not a Palindrome')\n"
   ]
  },
  {
   "cell_type": "code",
   "execution_count": 213,
   "metadata": {},
   "outputs": [
    {
     "name": "stdout",
     "output_type": "stream",
     "text": [
      "Enter a year2020\n",
      "The year 2020 is a leap year\n"
     ]
    }
   ],
   "source": [
    "#question 3:\n",
    "year=int(input('Enter a year'))\n",
    "\n",
    "if year% 400 == 0 :\n",
    "    print(f'The year {year} is a leap year')\n",
    "elif year % 100 == 0:\n",
    "    print(f'The year {year} is a Not a leap year')\n",
    "elif year % 4 == 0:\n",
    "    print(f'The year {year} is a leap year')\n",
    "else :\n",
    "      print(f'The year {year} is a Not a leap year')"
   ]
  },
  {
   "cell_type": "code",
   "execution_count": 214,
   "metadata": {},
   "outputs": [
    {
     "name": "stdout",
     "output_type": "stream",
     "text": [
      "Enter a stringhello how are you\n",
      "hello-how-are-you"
     ]
    }
   ],
   "source": [
    "#question4:\n",
    "s=input('Enter a string')\n",
    "for i in s:\n",
    "    if i==' ':\n",
    "        i='-'\n",
    "    print(f'{i}',end='')"
   ]
  },
  {
   "cell_type": "code",
   "execution_count": 215,
   "metadata": {},
   "outputs": [
    {
     "name": "stdout",
     "output_type": "stream",
     "text": [
      "Enter a string seperating , :python,is,a,good,progrming,language\n",
      "['a', 'good', 'is', 'language', 'progrming', 'python']\n"
     ]
    }
   ],
   "source": [
    "#question5:\n",
    "s=input('Enter a string seperating , :')\n",
    "l=s.split(',')\n",
    "print(sorted(set(l)))"
   ]
  },
  {
   "cell_type": "code",
   "execution_count": 218,
   "metadata": {},
   "outputs": [
    {
     "name": "stdout",
     "output_type": "stream",
     "text": [
      "Enter the salary1266234\n",
      "The tax percentage is 25\n",
      "The tax for the salary 1266234 is 316558.5\n"
     ]
    }
   ],
   "source": [
    "#question6:\n",
    "sal=int(input('Enter the salary'))\n",
    "if sal<=250000:\n",
    "    tax=0\n",
    "elif sal>250000 and sal<=500000:\n",
    "    tax=5\n",
    "elif sal>500000 and sal<=750000:\n",
    "    tax=10\n",
    "elif sal>750000 and sal<=1000000:\n",
    "    tax=15\n",
    "elif sal>1000000 and sal<=1250000:\n",
    "    tax=20\n",
    "elif sal>1250000 and sal<=1500000:\n",
    "    tax=25\n",
    "elif sal>1500000:\n",
    "    tax=30\n",
    "totaltax=sal*(tax/100)\n",
    "print(f'The tax percentage is {tax}')\n",
    "print(f'The tax for the salary {sal} is {totaltax}')"
   ]
  },
  {
   "cell_type": "code",
   "execution_count": 220,
   "metadata": {},
   "outputs": [
    {
     "name": "stdout",
     "output_type": "stream",
     "text": [
      "Enetr number of elements need to enter3\n",
      "Enetr elements : 11\n",
      "Enetr elements : 33\n",
      "Enetr elements : 55\n",
      "113355\n"
     ]
    }
   ],
   "source": [
    "#question7:\n",
    "li=[]\n",
    "letter=''\n",
    "n=int(input('Enetr number of elements need to enter'))\n",
    "for i in range(n):\n",
    "    num=int(input('Enetr elements : '))\n",
    "    li.append(str(num))\n",
    "print(''.join(li)) #here .join will join the elemets in elements in the list and the elements should be strings only\n",
    "    "
   ]
  },
  {
   "cell_type": "code",
   "execution_count": 221,
   "metadata": {},
   "outputs": [
    {
     "name": "stdout",
     "output_type": "stream",
     "text": [
      "Enter the number of Days : 2\n",
      "Enter the number of Hours : 2\n",
      "Enter the number of Minutes  :2\n",
      "Enter the number of Seconds : 2\n",
      "The seconds in the duration time is : 180122\n"
     ]
    }
   ],
   "source": [
    "#question8:\n",
    "d=int(input('Enter the number of Days : '))\n",
    "h=int(input('Enter the number of Hours : '))\n",
    "m=int(input('Enter the number of Minutes  :'))\n",
    "s=int(input('Enter the number of Seconds : '))\n",
    "totalseconds=d*86400+h*3600+m*60+s\n",
    "print(f'The seconds in the duration time is : {totalseconds}')"
   ]
  },
  {
   "cell_type": "code",
   "execution_count": 222,
   "metadata": {},
   "outputs": [
    {
     "name": "stdout",
     "output_type": "stream",
     "text": [
      "Enter a Number5\n",
      "Enter a Number1\n",
      "Enter a Number6\n",
      "The maximum of three numbers (5, 1, 6) is 6\n",
      "The minimum of three numbers (5, 1, 6) is 1\n"
     ]
    }
   ],
   "source": [
    "#question9:\n",
    "n1=int(input('Enter a Number'))\n",
    "n2=int(input('Enter a Number'))\n",
    "n3=int(input('Enter a Number'))\n",
    "print(f'The maximum of three numbers {n1,n2,n3} is {max(n1,n2,n3)}')\n",
    "print(f'The minimum of three numbers {n1,n2,n3} is {min(n1,n2,n3)}')\n"
   ]
  },
  {
   "cell_type": "code",
   "execution_count": 223,
   "metadata": {},
   "outputs": [
    {
     "name": "stdout",
     "output_type": "stream",
     "text": [
      "Enter the date of form YYYY-MM-DD : 2020-2-6\n",
      "2020-2-7\n"
     ]
    }
   ],
   "source": [
    "#question10\n",
    "date=input('Enter the date of form YYYY-MM-DD : ')\n",
    "li=date.split('-')\n",
    "dd=int(li[2])+1\n",
    "li[2]=str(dd)\n",
    "print(f\"{li[0]+'-'+li[1]+'-'+li[2]}\")"
   ]
  },
  {
   "cell_type": "code",
   "execution_count": 224,
   "metadata": {},
   "outputs": [
    {
     "name": "stdout",
     "output_type": "stream",
     "text": [
      "The product of list [45, 3, 2, 89, 72, 1, 10, 7] is 121111200\n"
     ]
    }
   ],
   "source": [
    "#question11\n",
    "li=[45 ,3,2,89,72,1,10,7]\n",
    "pdt=1\n",
    "for i in li:\n",
    "    pdt*=i\n",
    "print(f'The product of list {li} is {pdt}')"
   ]
  },
  {
   "cell_type": "code",
   "execution_count": 236,
   "metadata": {},
   "outputs": [
    {
     "name": "stdout",
     "output_type": "stream",
     "text": [
      "[11, 14, 42, 123, 90]\n"
     ]
    }
   ],
   "source": [
    "#question12\n",
    "Num_list=[5,6,8,34,89,1]\n",
    "Out_list=[]\n",
    "j=0\n",
    "for i in Num_list:\n",
    "    j+=1\n",
    "    if j<len(Num_list):\n",
    "        Out_list.append(i+Num_list[j])\n",
    "print(Out_list)"
   ]
  },
  {
   "cell_type": "code",
   "execution_count": 237,
   "metadata": {},
   "outputs": [
    {
     "name": "stdout",
     "output_type": "stream",
     "text": [
      "[5, 30, 240, 720, 6480, 6480]\n"
     ]
    }
   ],
   "source": [
    "#question13:\n",
    "Num_tuple=  (5, 6,8 ,3,9,1)\n",
    "pdt=1\n",
    "Out_list=[]\n",
    "for i in Num_tuple:\n",
    "    pdt=pdt*i\n",
    "    Out_list.append(pdt)\n",
    "print(Out_list)\n"
   ]
  },
  {
   "cell_type": "code",
   "execution_count": 238,
   "metadata": {},
   "outputs": [
    {
     "name": "stdout",
     "output_type": "stream",
     "text": [
      "Enter a number456789\n",
      "[4, 5, 6, 7, 8, 9]\n"
     ]
    }
   ],
   "source": [
    "#question14:\n",
    "n=int(input('Enter a number'))\n",
    "Out_list=[]\n",
    "for i in str(n):\n",
    "    Out_list.append(int(i))\n",
    "print(Out_list)"
   ]
  },
  {
   "cell_type": "code",
   "execution_count": 239,
   "metadata": {},
   "outputs": [
    {
     "name": "stdout",
     "output_type": "stream",
     "text": [
      "Enter a string : acocvsosefracecar\n",
      "racecar\n"
     ]
    }
   ],
   "source": [
    "#question15:\n",
    "s=input('Enter a string : ')\n",
    "li1=[]\n",
    "li2=[]\n",
    "index=0\n",
    "for i in range(0,len(s)-1):\n",
    "    for j in range(i+1,len(s)+1):\n",
    "        if j-i>1:\n",
    "            c=s[i:j]\n",
    "            if (c==c[::-1]):\n",
    "                li1.append(s[i:j])\n",
    "                li2.append(len(s[i:j]))\n",
    "maxe=max(li2)\n",
    "for i in li2:\n",
    "    if i == maxe:\n",
    "        print(li1[index])\n",
    "    else:\n",
    "        index=index+1\n",
    "    "
   ]
  },
  {
   "cell_type": "code",
   "execution_count": 240,
   "metadata": {},
   "outputs": [
    {
     "name": "stdout",
     "output_type": "stream",
     "text": [
      "Enter a binary Number of 10 digits1010110010\n",
      "Enter a binary Number of 5 digits10110\n",
      "1\n"
     ]
    }
   ],
   "source": [
    "#question16:\n",
    "a=input('Enter a binary Number of 10 digits')\n",
    "b=input('Enter a binary Number of 5 digits')\n",
    "def check(a,b):\n",
    "    #print(a)\n",
    "    #print(b)\n",
    "    for i in range(0,len(a)):\n",
    "        for j in range(i+1,len(a)+1):\n",
    "            c=a[i:j]\n",
    "            #print(c)\n",
    "            #print(b)\n",
    "            if c==b:\n",
    "                return 1\n",
    "ans=check(a,b)\n",
    "if ans==1:\n",
    "    print('1')\n",
    "else:\n",
    "    print('0')"
   ]
  },
  {
   "cell_type": "code",
   "execution_count": 5,
   "metadata": {},
   "outputs": [
    {
     "name": "stdout",
     "output_type": "stream",
     "text": [
      "3\n"
     ]
    }
   ],
   "source": [
    "#question17\n",
    "a=5\n",
    "c=0\n",
    "j=0\n",
    "b=3\n",
    "while j!=b:\n",
    "    if j<a:\n",
    "        j+=1\n",
    "    c+=1\n",
    "print(c)"
   ]
  },
  {
   "cell_type": "code",
   "execution_count": 38,
   "metadata": {},
   "outputs": [
    {
     "name": "stdout",
     "output_type": "stream",
     "text": [
      "Enter number of test cases2\n",
      "Enter Water in Vessel A : 5\n",
      "Enter Water in Vessel B : 2\n",
      "Enter Water in Vessel C : 3\n",
      "Enter Water in Vessel A : 2\n",
      "Enter Water in Vessel B : 3\n",
      "Enter Water in Vessel C : 4\n",
      "For the test case 1 the OutPut is 2\n",
      "For the test case 2 the OutPut is -1\n"
     ]
    }
   ],
   "source": [
    "#question17\n",
    "def water(a,b,c):\n",
    "    v1=0\n",
    "    v2=0\n",
    "    i=0\n",
    "    while True:\n",
    "        if v1+v2!=c:\n",
    "            if v1<a:\n",
    "                v1+=1\n",
    "        else:\n",
    "            break\n",
    "        if v1+v2!=c:\n",
    "            if v2<b:\n",
    "                v2+=1\n",
    "        else:\n",
    "            break\n",
    "        i+=1\n",
    "    return i\n",
    "ans_list=[]\n",
    "ts=0\n",
    "t=int(input('Enter number of test cases'))\n",
    "while ts<t:\n",
    "    a=int(input('Enter Water in Vessel A : '))\n",
    "    b=int(input('Enter Water in Vessel B : '))\n",
    "    c=int(input('Enter Water in Vessel C : '))\n",
    "    if a<c and b<c:\n",
    "        ts+=1\n",
    "        ans_list.append(-1)\n",
    "    else:\n",
    "        if a<b:\n",
    "            ts+=1\n",
    "            ans_list.append(water(a,b,c))\n",
    "        else:\n",
    "            ts+=1\n",
    "            ans=water(a,b,c)\n",
    "            ans=ans+1\n",
    "            ans_list.append(ans)\n",
    "#ans=water(2,6,8)\n",
    "c=1\n",
    "for i in ans_list:\n",
    "    print(f'For the test case {c} the OutPut is {i}')\n",
    "    c+=1\n",
    "#print(ans_list)"
   ]
  },
  {
   "cell_type": "code",
   "execution_count": null,
   "metadata": {},
   "outputs": [],
   "source": []
  }
 ],
 "metadata": {
  "kernelspec": {
   "display_name": "Python 3",
   "language": "python",
   "name": "python3"
  }
 },
 "nbformat": 4,
 "nbformat_minor": 4
}
