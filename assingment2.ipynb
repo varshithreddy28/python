{
 "cells": [
  {
   "cell_type": "code",
   "execution_count": 48,
   "metadata": {},
   "outputs": [
    {
     "name": "stdout",
     "output_type": "stream",
     "text": [
      "Enter a number12\n",
      "Monkey\n"
     ]
    }
   ],
   "source": [
    "#question 1:\n",
    "n=int(input('Enter a number'))\n",
    "r=n%12\n",
    "if r==0:\n",
    "    print('Monkey')\n",
    "elif r==1:\n",
    "    print('Rooster')\n",
    "elif r==2:\n",
    "    print('Dog')\n",
    "elif r==3:\n",
    "    print('Pig')\n",
    "elif r==4:\n",
    "    print('Rat')\n",
    "elif r==5:\n",
    "    print('Ox')\n",
    "elif r==6:\n",
    "    print('Tiger')\n",
    "elif r==7:\n",
    "    print('Rabbit')\n",
    "elif r==8:\n",
    "    print('Dragon')\n",
    "elif r==9:\n",
    "    print('Snake')\n",
    "elif r==10:\n",
    "    print('Horse')\n",
    "elif r==2:\n",
    "    print('Sheep')\n",
    "\n",
    "        "
   ]
  },
  {
   "cell_type": "code",
   "execution_count": 49,
   "metadata": {},
   "outputs": [
    {
     "name": "stdout",
     "output_type": "stream",
     "text": [
      "Distance to be travel: 500\n",
      "Weight of the goods:150\n",
      "Amount to be charged: 2500/- \n"
     ]
    }
   ],
   "source": [
    "#question 2:\n",
    "dis=int(input('Distance to be travel: '))\n",
    "weight=int(input('Weight of the goods:'))\n",
    "if dis>=500:\n",
    "    if weight>=100:\n",
    "        charge=dis*5\n",
    "        \n",
    "    elif weight>=10 and weight<100:\n",
    "        charge=dis*6\n",
    "    \n",
    "    elif weight<10:\n",
    "        charge=dis*7\n",
    "        \n",
    "elif dis<500:\n",
    "    if weight>=100:\n",
    "        charge=dis*8\n",
    "    elif weight<100:\n",
    "        charge=dis*5\n",
    "print(f'Amount to be charged: {charge}/- ')"
   ]
  },
  {
   "cell_type": "code",
   "execution_count": 50,
   "metadata": {},
   "outputs": [
    {
     "name": "stdout",
     "output_type": "stream",
     "text": [
      "Please select Type of seat : \n",
      "1.Stalls\n",
      "2.Circle\n",
      "3.Upper Class\n",
      "4.Box\n",
      "\n",
      "Type of Seat: stalls\n",
      "Payment mode: \n",
      " 1.Cash\n",
      "2.Credit card\n",
      "\n",
      " Select Pament mode : cash\n",
      "Cost of ticket: 562.5\n"
     ]
    }
   ],
   "source": [
    "#question 3:\n",
    "print('Please select Type of seat : ')\n",
    "print('1.Stalls\\n2.Circle\\n3.Upper Class\\n4.Box\\n')\n",
    "choise=input('Type of Seat: ').lower()\n",
    "if choise=='stalls':\n",
    "    bill=625\n",
    "elif choise=='circle':\n",
    "    bill=750\n",
    "elif choise=='upper Class':\n",
    "    bill=850\n",
    "elif choise=='box':\n",
    "    bill=1000\n",
    "else:\n",
    "    print(\"In-Valid choise!!!\")\n",
    "print('Payment mode: \\n 1.Cash\\n2.Credit card\\n')\n",
    "mode=input(' Select Pament mode : ').lower()\n",
    "if mode=='cash':\n",
    "    billdis=bill*(10/100)\n",
    "    tbill=bill-billdis\n",
    "    print(f'Cost of ticket: {tbill}')\n",
    "elif mode=='credit card': \n",
    "    billdis=bill*(5/100)\n",
    "    tbill=bill-billdis\n",
    "    print(f'Cost of ticket: {tbill}')\n",
    "else:\n",
    "    print(\"In-Valid choise!!!\")"
   ]
  },
  {
   "cell_type": "code",
   "execution_count": 51,
   "metadata": {},
   "outputs": [
    {
     "name": "stdout",
     "output_type": "stream",
     "text": [
      "Enter Weight of water in Kilograms2\n",
      "Enter Intial Temeperature in degrees Celsius55\n",
      "Enter Final Temeperature in degrees Celsius90\n",
      " Energy needed to heat water from an Initial Temperature to a Final Temperature is 292880.0\n"
     ]
    }
   ],
   "source": [
    "#question 4:\n",
    "M=float(input('Enter Weight of water in Kilograms')) \n",
    "initialTemperature=float(input('Enter Intial Temeperature in degrees Celsius')) \n",
    "finalTemperature=float(input('Enter Final Temeperature in degrees Celsius')) \n",
    "Q = M * (finalTemperature-initialTemperature) * 4184 \n",
    "print(f' Energy needed to heat water from an Initial Temperature to a Final Temperature is {Q}')\n"
   ]
  },
  {
   "cell_type": "code",
   "execution_count": 52,
   "metadata": {},
   "outputs": [
    {
     "name": "stdout",
     "output_type": "stream",
     "text": [
      "Enter Monthjanuary\n",
      "Winter\n"
     ]
    }
   ],
   "source": [
    "#question 5:\n",
    "m=input('Enter Month')\n",
    "if m=='December' or m=='January' or m=='February':\n",
    "    season='Winter'\n",
    "elif m=='March' or m=='April' or m=='May':\n",
    "    season='Spring'\n",
    "elif m=='June' or m=='July' or m=='August':\n",
    "    season='Summer'\n",
    "elif m=='September' or m=='October' or m=='November':\n",
    "    season='Autumn'\n",
    "print(season)"
   ]
  },
  {
   "cell_type": "code",
   "execution_count": 53,
   "metadata": {},
   "outputs": [
    {
     "name": "stdout",
     "output_type": "stream",
     "text": [
      "Enter Height in Inches5.9\n",
      "Enter Weight in Pounds60\n",
      "The BMI of the body is 1211.8407003260431 and the Interpretation is Obese\n"
     ]
    }
   ],
   "source": [
    "#question 6:\n",
    "h=float(input('Enter Height in Inches'))\n",
    "w=float(input('Enter Weight in Pounds'))\n",
    "hm=h*0.0254\n",
    "wkg=w*0.45359237\n",
    "bmi=wkg/(hm**2)\n",
    "if bmi<18.5:\n",
    "    interpretation=\"Underweight\"\n",
    "elif bmi<25:\n",
    "    interpretation=\"Normal\"\n",
    "elif bmi<30:\n",
    "    interpretation=\"Overweight\"\n",
    "else:\n",
    "    interpretation=\"Obese\"\n",
    "print(f'The BMI of the body is {bmi} and the Interpretation is {interpretation}')"
   ]
  },
  {
   "cell_type": "code",
   "execution_count": 55,
   "metadata": {},
   "outputs": [
    {
     "name": "stdout",
     "output_type": "stream",
     "text": [
      "Enter an integer123\n",
      "The sum is 6\n"
     ]
    }
   ],
   "source": [
    "num=input('Enter an integer')\n",
    "if int(num) in range(100,1001):\n",
    "    sum=0\n",
    "    for n in num:\n",
    "        sum=sum+int(n)\n",
    "    print(f'The sum is {sum}')\n",
    "else:\n",
    "    print('Enter number again')"
   ]
  },
  {
   "cell_type": "code",
   "execution_count": 56,
   "metadata": {},
   "outputs": [
    {
     "name": "stdout",
     "output_type": "stream",
     "text": [
      "1\n",
      "2\n",
      "3\n",
      "4\n",
      "5\n",
      "6\n",
      "7\n",
      "8\n",
      "9\n",
      "11\n",
      "22\n",
      "33\n",
      "44\n",
      "55\n",
      "66\n",
      "77\n",
      "88\n",
      "99\n",
      "101\n",
      "111\n",
      "121\n",
      "131\n",
      "141\n",
      "151\n",
      "161\n",
      "171\n",
      "181\n",
      "191\n",
      "202\n",
      "212\n",
      "222\n",
      "232\n",
      "242\n",
      "252\n",
      "262\n",
      "272\n",
      "282\n",
      "292\n",
      "303\n",
      "313\n",
      "323\n",
      "333\n",
      "343\n",
      "353\n",
      "363\n",
      "373\n",
      "383\n",
      "393\n",
      "404\n",
      "414\n",
      "424\n",
      "434\n",
      "444\n",
      "454\n",
      "464\n",
      "474\n",
      "484\n",
      "494\n",
      "505\n",
      "515\n",
      "525\n",
      "535\n",
      "545\n",
      "555\n",
      "565\n",
      "575\n",
      "585\n",
      "595\n",
      "606\n",
      "616\n",
      "626\n",
      "636\n",
      "646\n",
      "656\n",
      "666\n",
      "676\n",
      "686\n",
      "696\n",
      "707\n",
      "717\n",
      "727\n",
      "737\n",
      "747\n",
      "757\n",
      "767\n",
      "777\n",
      "787\n",
      "797\n",
      "808\n",
      "818\n",
      "828\n",
      "838\n",
      "848\n",
      "858\n",
      "868\n",
      "878\n",
      "888\n",
      "898\n",
      "909\n",
      "919\n",
      "929\n",
      "939\n",
      "949\n",
      "959\n",
      "969\n",
      "979\n",
      "989\n",
      "999\n"
     ]
    }
   ],
   "source": [
    "for num in range(1,1001):\n",
    "    if str(num)==str(num)[::-1]:\n",
    "        print(num)"
   ]
  },
  {
   "cell_type": "code",
   "execution_count": 57,
   "metadata": {},
   "outputs": [
    {
     "name": "stdout",
     "output_type": "stream",
     "text": [
      "1\n",
      "2\n",
      "3\n",
      "4\n",
      "5\n",
      "6\n",
      "7\n",
      "8\n",
      "9\n",
      "153\n",
      "370\n",
      "370\n",
      "371\n",
      "407\n"
     ]
    }
   ],
   "source": [
    "for num in range(1,1001):\n",
    "    cn=0\n",
    "    for n in str(num):\n",
    "        l=len(str(num))\n",
    "        cn=cn+int(n)**l\n",
    "        if cn==int(num):\n",
    "            print(num)"
   ]
  },
  {
   "cell_type": "code",
   "execution_count": 58,
   "metadata": {
    "scrolled": true
   },
   "outputs": [
    {
     "name": "stdout",
     "output_type": "stream",
     "text": [
      "Fizz\n",
      "Buzz\n",
      "Fizz\n",
      "Fizz\n",
      "Buzz\n",
      "Fizz\n",
      "FizzBuzz\n",
      "Fizz\n",
      "Buzz\n",
      "Fizz\n",
      "Fizz\n",
      "Buzz\n",
      "Fizz\n",
      "FizzBuzz\n",
      "Fizz\n",
      "Buzz\n",
      "Fizz\n",
      "Fizz\n",
      "Buzz\n",
      "Fizz\n",
      "FizzBuzz\n",
      "Fizz\n",
      "Buzz\n",
      "Fizz\n",
      "Fizz\n",
      "Buzz\n",
      "Fizz\n",
      "FizzBuzz\n",
      "Fizz\n",
      "Buzz\n",
      "Fizz\n",
      "Fizz\n",
      "Buzz\n",
      "Fizz\n",
      "FizzBuzz\n",
      "Fizz\n",
      "Buzz\n",
      "Fizz\n",
      "Fizz\n",
      "Buzz\n",
      "Fizz\n",
      "FizzBuzz\n",
      "Fizz\n",
      "Buzz\n",
      "Fizz\n",
      "Fizz\n"
     ]
    }
   ],
   "source": [
    "for num in range(1,100):\n",
    "    if num%3==0 and num%5==0:\n",
    "        print('FizzBuzz')\n",
    "    elif num%3==0:\n",
    "        print('Fizz')\n",
    "    elif num%5==0:\n",
    "        print('Buzz')"
   ]
  },
  {
   "cell_type": "code",
   "execution_count": 47,
   "metadata": {},
   "outputs": [
    {
     "name": "stdout",
     "output_type": "stream",
     "text": [
      "Height of the well: 200\n",
      "Meters climbed up in each step : 50\n",
      "Meters slipped down in each step : 1\n",
      "Steps required to get out from well = 5\n"
     ]
    }
   ],
   "source": [
    "h=int(input('Height of the well: '))\n",
    "su=int(input('Meters climbed up in each step : '))\n",
    "sp=int(input('Meters slipped down in each step : '))\n",
    "cl=0\n",
    "stepscount=0\n",
    "while cl<=h:\n",
    "    if cl+su>h:\n",
    "        stepscount+=1\n",
    "        break\n",
    "    cl+=su-sp\n",
    "    stepscount+=1\n",
    "print(f'Steps required to get out from well = {stepscount}')"
   ]
  },
  {
   "cell_type": "code",
   "execution_count": null,
   "metadata": {},
   "outputs": [],
   "source": []
  }
 ],
 "metadata": {
  "kernelspec": {
   "display_name": "Python 3",
   "language": "python",
   "name": "python3"
  },
  "language_info": {
   "codemirror_mode": {
    "name": "ipython",
    "version": 3
   },
   "file_extension": ".py",
   "mimetype": "text/x-python",
   "name": "python",
   "nbconvert_exporter": "python",
   "pygments_lexer": "ipython3",
   "version": "3.7.6"
  }
 },
 "nbformat": 4,
 "nbformat_minor": 4
}
